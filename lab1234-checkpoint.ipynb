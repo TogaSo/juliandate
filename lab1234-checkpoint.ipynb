{
 "cells": [
  {
   "cell_type": "code",
   "execution_count": 2,
   "id": "60bec0c7",
   "metadata": {},
   "outputs": [
    {
     "name": "stdout",
     "output_type": "stream",
     "text": [
      "30.06.1972\t23:59:59\t11 secs\n",
      "31.12.1972\t23:59:59\t12 secs\n",
      "31.12.1973\t23:59:59\t13 secs\n",
      "31.12.1974\t23:59:59\t14 secs\n",
      "31.12.1975\t23:59:59\t15 secs\n",
      "31.12.1976\t23:59:59\t16 secs\n",
      "31.12.1977\t23:59:59\t17 secs\n",
      "31.12.1978\t23:59:59\t18 secs\n",
      "31.12.1979\t23:59:59\t19 secs\n",
      "30.06.1981\t23:59:59\t20 secs\n",
      "30.06.1982\t23:59:59\t21 secs\n",
      "30.06.1983\t23:59:59\t22 secs\n",
      "30.06.1985\t23:59:59\t23 secs\n",
      "31.12.1987\t23:59:59\t24 secs\n",
      "31.12.1989\t23:59:59\t25 secs\n",
      "31.12.1990\t23:59:59\t26 secs\n",
      "30.06.1992\t23:59:59\t27 secs\n",
      "30.06.1993\t23:59:59\t28 secs\n",
      "30.06.1994\t23:59:59\t29 secs\n",
      "31.12.1995\t23:59:59\t30 secs\n",
      "30.06.1997\t23:59:59\t31 secs\n",
      "31.12.1998\t23:59:59\t32 secs\n",
      "31.12.2005\t23:59:59\t33 secs\n",
      "31.12.2008\t23:59:59\t34 secs\n",
      "30.06.2012\t23:59:59\t35 secs\n",
      "30.06.2015\t23:59:59\t36 secs\n",
      "31.12.2016\t23:59:59\t37 secs\n"
     ]
    }
   ],
   "source": [
    "dosya = open(\"juliandata.txt\",\"r\",encoding=\"utf-8\")\n",
    "oku = dosya.read()\n",
    "print(oku)"
   ]
  },
  {
   "cell_type": "code",
   "execution_count": 18,
   "id": "089dfa33",
   "metadata": {
    "scrolled": true
   },
   "outputs": [
    {
     "name": "stdout",
     "output_type": "stream",
     "text": [
      "years1972\n",
      "months6\n",
      "days30\n",
      "hours23\n",
      "seconds59\n"
     ]
    },
    {
     "data": {
      "text/plain": [
       "2441499.459016204"
      ]
     },
     "execution_count": 18,
     "metadata": {},
     "output_type": "execute_result"
    }
   ],
   "source": [
    "import pandas as pd\n",
    "dy = int(input(\"years\"))\n",
    "dm = int(input(\"months\"))\n",
    "dd = int(input(\"days\"))\n",
    "dh = int(input(\"hours\"))\n",
    "ds = int(input(\"seconds\"))\n",
    "\n",
    "while int(dy) > 2023:\n",
    "    print(\"Hatalı giriş\")\n",
    "    break\n",
    "    \n",
    "while int(dm) > 12:\n",
    "    print(\"Hatalı giriş\")\n",
    "    break\n",
    "    \n",
    "while int(dd) > 31:\n",
    "    print(\"Hatalı giriş\")\n",
    "    break    \n",
    "\n",
    "while int(dh) > 24:\n",
    "    print(\"Hatalı giriş\")\n",
    "    break \n",
    "    \n",
    "while int(ds) > 60:\n",
    "    print(\"Hatalı giriş\")\n",
    "    break\n",
    "    \n",
    "    \n",
    "ts = pd.Timestamp(year = int(dy),  month = int(dm), day = int(dd), \n",
    "                  hour = int(dh), second = int(ds),  ) \n",
    "ts.to_julian_date() "
   ]
  },
  {
   "cell_type": "code",
   "execution_count": 23,
   "id": "532a79f2",
   "metadata": {},
   "outputs": [
    {
     "name": "stdout",
     "output_type": "stream",
     "text": [
      "utc11\n",
      "Julian date2441499\n",
      "2441520\n"
     ]
    }
   ],
   "source": [
    "# julian date to tai\n",
    "from datetime import date\n",
    "\n",
    "n2 = int(input(\"utc\")) \n",
    "n = int(input(\"Julian date\"))\n",
    "\n",
    "Tai = int(n2) + 10 + int(n)*1\n",
    "print(Tai)"
   ]
  },
  {
   "cell_type": "code",
   "execution_count": 24,
   "id": "b82cf83a",
   "metadata": {},
   "outputs": [
    {
     "name": "stdout",
     "output_type": "stream",
     "text": [
      "2441501\n"
     ]
    }
   ],
   "source": [
    "# tai date to GPST\n",
    "GPST = Tai - 19\n",
    "print(GPST)"
   ]
  },
  {
   "cell_type": "code",
   "execution_count": 25,
   "id": "7a4d3480",
   "metadata": {},
   "outputs": [
    {
     "name": "stdout",
     "output_type": "stream",
     "text": [
      "2441552.184\n"
     ]
    }
   ],
   "source": [
    "# TT to Tai\n",
    "TT = Tai + 32.184\n",
    "print(TT)"
   ]
  },
  {
   "cell_type": "code",
   "execution_count": null,
   "id": "0b4accf9",
   "metadata": {},
   "outputs": [],
   "source": []
  }
 ],
 "metadata": {
  "kernelspec": {
   "display_name": "Python 3 (ipykernel)",
   "language": "python",
   "name": "python3"
  },
  "language_info": {
   "codemirror_mode": {
    "name": "ipython",
    "version": 3
   },
   "file_extension": ".py",
   "mimetype": "text/x-python",
   "name": "python",
   "nbconvert_exporter": "python",
   "pygments_lexer": "ipython3",
   "version": "3.9.13"
  }
 },
 "nbformat": 4,
 "nbformat_minor": 5
}
